{
 "cells": [
  {
   "cell_type": "code",
   "execution_count": 8,
   "metadata": {
    "collapsed": true
   },
   "outputs": [],
   "source": [
    "import os\n",
    "import scipy.io as sio\n",
    "import cv2\n",
    "\n",
    "PATH = '/home/zxy/Datasets/pascal3d/'\n",
    "ANNOT_PATH = PATH + 'Annotations/'\n",
    "IMAGE_PATH = PATH + 'Images/'\n",
    "SAVE_PATH = PATH + 'Pascal3D/'\n",
    "if not os.path.exists(SAVE_PATH):\n",
    "    os.mkdir(SAVE_PATH)\n"
   ]
  },
  {
   "cell_type": "code",
   "execution_count": 9,
   "metadata": {},
   "outputs": [],
   "source": [
    "objs = os.listdir(ANNOT_PATH)"
   ]
  },
  {
   "cell_type": "code",
   "execution_count": 10,
   "metadata": {},
   "outputs": [
    {
     "name": "stdout",
     "output_type": "stream",
     "text": [
      "bbox [array([[233, 180, 277, 262]], dtype=uint16)\n",
      " array([[275, 181, 310, 274]], dtype=uint16)\n",
      " array([[119, 174, 140, 208]], dtype=uint8)\n",
      " array([[ 84, 190, 279, 434]], dtype=uint16)\n",
      " array([[ 39, 170, 113, 260]], dtype=uint16)\n",
      " array([[ 55, 288, 175, 455]], dtype=uint16)\n",
      " array([[ 25, 242,  94, 351]], dtype=uint16)\n",
      " array([[328, 279, 347, 340]], dtype=uint16)\n",
      " array([[338, 276, 352, 333]], dtype=uint16)\n",
      " array([[ 88, 207, 100, 234]], dtype=uint8)] (10,)\n",
      "viewpoint [array([], shape=(1, 0), dtype=float64)\n",
      " array([], shape=(1, 0), dtype=float64)\n",
      " array([], shape=(1, 0), dtype=float64)\n",
      " array([], shape=(1, 0), dtype=float64)\n",
      " array([], shape=(1, 0), dtype=float64)\n",
      " array([], shape=(1, 0), dtype=float64)\n",
      " array([], shape=(1, 0), dtype=float64)\n",
      " array([[ (array([[0]], dtype=uint8), array([[ 7.5]]), array([[  1.40407833e-05]]), array([[ 10.36039084]]), array([[ 46.78078117]]), array([[1]], dtype=uint8), array([[ 337.48725269]]), array([[ 306.63626577]]), array([[-1.29049621]]), array([[ 3.28926842]]), array([[ 1.62379178]]), array([[ 1.71021109]]), array([[7]], dtype=uint8), array([[3000]], dtype=uint16))]], \n",
      "      dtype=[('azimuth_coarse', 'O'), ('elevation_coarse', 'O'), ('azimuth', 'O'), ('elevation', 'O'), ('distance', 'O'), ('focal', 'O'), ('px', 'O'), ('py', 'O'), ('theta', 'O'), ('error', 'O'), ('interval_azimuth', 'O'), ('interval_elevation', 'O'), ('num_anchor', 'O'), ('viewport', 'O')])\n",
      " array([[ (array([[0]], dtype=uint8), array([[5]], dtype=uint8), array([[  2.04874007e-07]]), array([[ 24.15882962]]), array([[ 44.65308341]]), array([[1]], dtype=uint8), array([[ 342.67033882]]), array([[ 302.01582323]]), array([[-2.32808263]]), array([[ 1.91705589]]), array([[ 0.72008321]]), array([[ 0.71281414]]), array([[3]], dtype=uint8), array([[3000]], dtype=uint16))]], \n",
      "      dtype=[('azimuth_coarse', 'O'), ('elevation_coarse', 'O'), ('azimuth', 'O'), ('elevation', 'O'), ('distance', 'O'), ('focal', 'O'), ('px', 'O'), ('py', 'O'), ('theta', 'O'), ('error', 'O'), ('interval_azimuth', 'O'), ('interval_elevation', 'O'), ('num_anchor', 'O'), ('viewport', 'O')])\n",
      " array([[ (array([[0]], dtype=uint8), array([[ 7.5]]), array([[ 0.00040847]]), array([[ 29.99997581]]), array([[ 99.99998476]]), array([[1]], dtype=uint8), array([[ 94.37286617]]), array([[ 218.04912909]]), array([[ 1.47976472]]), array([[ 0.97086498]]), array([[ 2.47446216]]), array([[ 1.96615153]]), array([[7]], dtype=uint8), array([[3000]], dtype=uint16))]], \n",
      "      dtype=[('azimuth_coarse', 'O'), ('elevation_coarse', 'O'), ('azimuth', 'O'), ('elevation', 'O'), ('distance', 'O'), ('focal', 'O'), ('px', 'O'), ('py', 'O'), ('theta', 'O'), ('error', 'O'), ('interval_azimuth', 'O'), ('interval_elevation', 'O'), ('num_anchor', 'O'), ('viewport', 'O')])] (10,)\n",
      "tvmonitor\n",
      "tvmonitor\n",
      "tvmonitor\n",
      "person\n",
      "person\n",
      "chair\n",
      "chair\n",
      "bottle\n",
      "bbox 7 [[328 279 347 340]]\n",
      "bottle\n",
      "bbox 8 [[338 276 352 333]]\n",
      "bottle\n",
      "bbox 9 [[ 88 207 100 234]]\n"
     ]
    }
   ],
   "source": [
    "for obj in objs:\n",
    "    obj_path = SAVE_PATH + obj\n",
    "    if not os.path.exists(obj_path):\n",
    "        os.mkdir(obj_path)\n",
    "    view_file = open(obj_path + 'annots.txt', 'w')\n",
    "    img_path = IMAGE_PATH + obj\n",
    "    for im_name in os.listdir(img_path):\n",
    "        obj_id = im_name.split('.')[0]\n",
    "        annot_file = ANNOT_PATH + obj + '/' + obj_id\n",
    "        data = sio.loadmat(annot_file)\n",
    "        data_objects = data['record']['objects'][0][0]\n",
    "        cls = data_objects['class'][0]\n",
    "        bbox = data_objects['bbox'][0]\n",
    "        viewpoint = data_objects['viewpoint'][0]\n",
    "        img = cv2.imread(img_path + '/' + im_name)\n",
    "        \n",
    "        #\n",
    "        print 'bbox', bbox, bbox.shape\n",
    "        print 'viewpoint', viewpoint, viewpoint.shape\n",
    "        \n",
    "        for i in range(bbox.shape[0]):\n",
    "            print cls[i][0]\n",
    "            if not (cls[i][0] in obj):\n",
    "                continue\n",
    "            new_img = img[box[1]:box[3], box[0]:box[2]].copy()\n",
    "            cv2.imshow('new_img', new_img)\n",
    "            cv2.waitKey()\n",
    "            print 'bbox', i, bbox[i]\n",
    "            box = bbox[i][0]\n",
    "            cv2.circle(img, (box[0], box[1]), 3, (255, 0, 0), -1)\n",
    "            cv2.circle(img, (box[0], box[3]), 3, (255, 0, 0), -1)\n",
    "            cv2.circle(img, (box[2], box[3]), 3, (255, 0, 0), -1)\n",
    "            cv2.circle(img, (box[2], box[1]), 3, (255, 0, 0), -1)\n",
    "            cv2.line(img, (box[0], box[1]), (box[0], box[3]), (255, 0, 0), 2)\n",
    "            cv2.line(img, (box[0], box[1]), (box[2], box[1]), (255, 0, 0), 2)\n",
    "            cv2.line(img, (box[2], box[3]), (box[0], box[3]), (255, 0, 0), 2)\n",
    "            cv2.line(img, (box[2], box[3]), (box[2], box[1]), (255, 0, 0), 2)\n",
    "        cv2.imshow('img', img)\n",
    "        cv2.waitKey()\n",
    "        break\n",
    "    break\n",
    "\n",
    "    \n",
    "    "
   ]
  },
  {
   "cell_type": "code",
   "execution_count": 24,
   "metadata": {},
   "outputs": [
    {
     "data": {
      "text/plain": [
       "array([ array([[ (array([u'tvmonitor'], \n",
       "      dtype='<U9'), array([u'Left'], \n",
       "      dtype='<U4'), array([[1]], dtype=uint8), array([[0]], dtype=uint8), array([[0]], dtype=uint8), array([u'PAStvmonitorLeftTrunc'], \n",
       "      dtype='<U21'), array([u'PAStvmonitorLeftTrunc'], \n",
       "      dtype='<U21'), array([[233, 180, 277, 262]], dtype=uint16), array([[ (array([[233]], dtype=uint8), array([[180]], dtype=uint8), array([[277]], dtype=uint16), array([[262]], dtype=uint16))]], \n",
       "      dtype=[('xmin', 'O'), ('ymin', 'O'), ('xmax', 'O'), ('ymax', 'O')]), array([], shape=(0, 0), dtype=uint8), array([], shape=(0, 0), dtype=uint8), array([[0]], dtype=uint8), array([], shape=(0, 0), dtype=uint8), array([], shape=(0, 0), dtype=uint8), array([[0]], dtype=uint8), array([], shape=(0, 0), dtype=uint8), array([], shape=(1, 0), dtype=float64), array([], shape=(1, 0), dtype=float64), array([], shape=(1, 0), dtype=float64)),\n",
       "        (array([u'tvmonitor'], \n",
       "      dtype='<U9'), array([u'Left'], \n",
       "      dtype='<U4'), array([[0]], dtype=uint8), array([[0]], dtype=uint8), array([[0]], dtype=uint8), array([u'PAStvmonitorLeft'], \n",
       "      dtype='<U16'), array([u'PAStvmonitorLeft'], \n",
       "      dtype='<U16'), array([[275, 181, 310, 274]], dtype=uint16), array([[ (array([[275]], dtype=uint16), array([[181]], dtype=uint8), array([[310]], dtype=uint16), array([[274]], dtype=uint16))]], \n",
       "      dtype=[('xmin', 'O'), ('ymin', 'O'), ('xmax', 'O'), ('ymax', 'O')]), array([], shape=(0, 0), dtype=uint8), array([], shape=(0, 0), dtype=uint8), array([[0]], dtype=uint8), array([], shape=(0, 0), dtype=uint8), array([], shape=(0, 0), dtype=uint8), array([[0]], dtype=uint8), array([], shape=(0, 0), dtype=uint8), array([], shape=(1, 0), dtype=float64), array([], shape=(1, 0), dtype=float64), array([], shape=(1, 0), dtype=float64)),\n",
       "        (array([u'tvmonitor'], \n",
       "      dtype='<U9'), array([u'Left'], \n",
       "      dtype='<U4'), array([[1]], dtype=uint8), array([[1]], dtype=uint8), array([[1]], dtype=uint8), array([u'PAStvmonitorLeftTruncOccDiff'], \n",
       "      dtype='<U28'), array([u'PAStvmonitorLeftTruncOccDiff'], \n",
       "      dtype='<U28'), array([[119, 174, 140, 208]], dtype=uint8), array([[ (array([[119]], dtype=uint8), array([[174]], dtype=uint8), array([[140]], dtype=uint8), array([[208]], dtype=uint8))]], \n",
       "      dtype=[('xmin', 'O'), ('ymin', 'O'), ('xmax', 'O'), ('ymax', 'O')]), array([], shape=(0, 0), dtype=uint8), array([], shape=(0, 0), dtype=uint8), array([[0]], dtype=uint8), array([], shape=(0, 0), dtype=uint8), array([], shape=(0, 0), dtype=uint8), array([[0]], dtype=uint8), array([], shape=(0, 0), dtype=uint8), array([], shape=(1, 0), dtype=float64), array([], shape=(1, 0), dtype=float64), array([], shape=(1, 0), dtype=float64)),\n",
       "        (array([u'person'], \n",
       "      dtype='<U6'), array([u'Right'], \n",
       "      dtype='<U5'), array([[0]], dtype=uint8), array([[1]], dtype=uint8), array([[0]], dtype=uint8), array([u'PASpersonRightOcc'], \n",
       "      dtype='<U17'), array([u'PASpersonRightOcc'], \n",
       "      dtype='<U17'), array([[ 84, 190, 279, 434]], dtype=uint16), array([[ (array([[84]], dtype=uint8), array([[190]], dtype=uint8), array([[279]], dtype=uint16), array([[434]], dtype=uint16))]], \n",
       "      dtype=[('xmin', 'O'), ('ymin', 'O'), ('xmax', 'O'), ('ymax', 'O')]), array([], shape=(0, 0), dtype=uint8), array([], shape=(0, 0), dtype=uint8), array([[0]], dtype=uint8), array([], shape=(0, 0), dtype=uint8), array([], shape=(0, 0), dtype=uint8), array([[0]], dtype=uint8), array([], shape=(0, 0), dtype=uint8), array([], shape=(1, 0), dtype=float64), array([], shape=(1, 0), dtype=float64), array([], shape=(1, 0), dtype=float64)),\n",
       "        (array([u'person'], \n",
       "      dtype='<U6'), array([u'Right'], \n",
       "      dtype='<U5'), array([[1]], dtype=uint8), array([[0]], dtype=uint8), array([[0]], dtype=uint8), array([u'PASpersonRightTrunc'], \n",
       "      dtype='<U19'), array([u'PASpersonRightTrunc'], \n",
       "      dtype='<U19'), array([[ 39, 170, 113, 260]], dtype=uint16), array([[ (array([[39]], dtype=uint8), array([[170]], dtype=uint8), array([[113]], dtype=uint8), array([[260]], dtype=uint16))]], \n",
       "      dtype=[('xmin', 'O'), ('ymin', 'O'), ('xmax', 'O'), ('ymax', 'O')]), array([], shape=(0, 0), dtype=uint8), array([], shape=(0, 0), dtype=uint8), array([[0]], dtype=uint8), array([], shape=(0, 0), dtype=uint8), array([], shape=(0, 0), dtype=uint8), array([[0]], dtype=uint8), array([], shape=(0, 0), dtype=uint8), array([], shape=(1, 0), dtype=float64), array([], shape=(1, 0), dtype=float64), array([], shape=(1, 0), dtype=float64)),\n",
       "        (array([u'chair'], \n",
       "      dtype='<U5'), array([u'Right'], \n",
       "      dtype='<U5'), array([[0]], dtype=uint8), array([[1]], dtype=uint8), array([[0]], dtype=uint8), array([u'PASchairRightOcc'], \n",
       "      dtype='<U16'), array([u'PASchairRightOcc'], \n",
       "      dtype='<U16'), array([[ 55, 288, 175, 455]], dtype=uint16), array([[ (array([[55]], dtype=uint8), array([[288]], dtype=uint16), array([[175]], dtype=uint8), array([[455]], dtype=uint16))]], \n",
       "      dtype=[('xmin', 'O'), ('ymin', 'O'), ('xmax', 'O'), ('ymax', 'O')]), array([], shape=(0, 0), dtype=uint8), array([], shape=(0, 0), dtype=uint8), array([[0]], dtype=uint8), array([], shape=(0, 0), dtype=uint8), array([], shape=(0, 0), dtype=uint8), array([[0]], dtype=uint8), array([], shape=(0, 0), dtype=uint8), array([], shape=(1, 0), dtype=float64), array([], shape=(1, 0), dtype=float64), array([], shape=(1, 0), dtype=float64)),\n",
       "        (array([u'chair'], \n",
       "      dtype='<U5'), array([u'Right'], \n",
       "      dtype='<U5'), array([[0]], dtype=uint8), array([[1]], dtype=uint8), array([[0]], dtype=uint8), array([u'PASchairRightOcc'], \n",
       "      dtype='<U16'), array([u'PASchairRightOcc'], \n",
       "      dtype='<U16'), array([[ 25, 242,  94, 351]], dtype=uint16), array([[ (array([[25]], dtype=uint8), array([[242]], dtype=uint8), array([[94]], dtype=uint8), array([[351]], dtype=uint16))]], \n",
       "      dtype=[('xmin', 'O'), ('ymin', 'O'), ('xmax', 'O'), ('ymax', 'O')]), array([], shape=(0, 0), dtype=uint8), array([], shape=(0, 0), dtype=uint8), array([[0]], dtype=uint8), array([], shape=(0, 0), dtype=uint8), array([], shape=(0, 0), dtype=uint8), array([[0]], dtype=uint8), array([], shape=(0, 0), dtype=uint8), array([], shape=(1, 0), dtype=float64), array([], shape=(1, 0), dtype=float64), array([], shape=(1, 0), dtype=float64)),\n",
       "        (array([u'bottle'], \n",
       "      dtype='<U6'), array([], \n",
       "      dtype='<U1'), array([[0]], dtype=uint8), array([[0]], dtype=uint8), array([[0]], dtype=uint8), array([u'PASbottle'], \n",
       "      dtype='<U9'), array([u'PASbottle'], \n",
       "      dtype='<U9'), array([[328, 279, 347, 340]], dtype=uint16), array([[ (array([[328]], dtype=uint16), array([[279]], dtype=uint16), array([[347]], dtype=uint16), array([[340]], dtype=uint16))]], \n",
       "      dtype=[('xmin', 'O'), ('ymin', 'O'), ('xmax', 'O'), ('ymax', 'O')]), array([], shape=(0, 0), dtype=uint8), array([], shape=(0, 0), dtype=uint8), array([[0]], dtype=uint8), array([], shape=(0, 0), dtype=uint8), array([], shape=(0, 0), dtype=uint8), array([[0]], dtype=uint8), array([], shape=(0, 0), dtype=uint8), array([[ (array([[(array([[ 338.95338983,  281.97699758]]), array([[1]], dtype=uint8))]], \n",
       "      dtype=[('location', 'O'), ('status', 'O')]), array([[(array([[ 337.74273608,  299.531477  ]]), array([[1]], dtype=uint8))]], \n",
       "      dtype=[('location', 'O'), ('status', 'O')]), array([[(array([[ 328.66283293,  298.32082324]]), array([[1]], dtype=uint8))]], \n",
       "      dtype=[('location', 'O'), ('status', 'O')]), array([[(array([[ 345.61198547,  298.32082324]]), array([[1]], dtype=uint8))]], \n",
       "      dtype=[('location', 'O'), ('status', 'O')]), array([[(array([[ 337.1374092 ,  337.66707022]]), array([[1]], dtype=uint8))]], \n",
       "      dtype=[('location', 'O'), ('status', 'O')]), array([[(array([[ 328.66283293,  335.24576271]]), array([[1]], dtype=uint8))]], \n",
       "      dtype=[('location', 'O'), ('status', 'O')]), array([[(array([[ 345.0066586 ,  335.24576271]]), array([[1]], dtype=uint8))]], \n",
       "      dtype=[('location', 'O'), ('status', 'O')]))]], \n",
       "      dtype=[('mouth', 'O'), ('body', 'O'), ('body_left', 'O'), ('body_right', 'O'), ('bottom', 'O'), ('bottom_left', 'O'), ('bottom_right', 'O')]), array([[ (array([[0]], dtype=uint8), array([[ 7.5]]), array([[  1.40407833e-05]]), array([[ 10.36039084]]), array([[ 46.78078117]]), array([[1]], dtype=uint8), array([[ 337.48725269]]), array([[ 306.63626577]]), array([[-1.29049621]]), array([[ 3.28926842]]), array([[ 1.62379178]]), array([[ 1.71021109]]), array([[7]], dtype=uint8), array([[3000]], dtype=uint16))]], \n",
       "      dtype=[('azimuth_coarse', 'O'), ('elevation_coarse', 'O'), ('azimuth', 'O'), ('elevation', 'O'), ('distance', 'O'), ('focal', 'O'), ('px', 'O'), ('py', 'O'), ('theta', 'O'), ('error', 'O'), ('interval_azimuth', 'O'), ('interval_elevation', 'O'), ('num_anchor', 'O'), ('viewport', 'O')]), array([[4]], dtype=uint8)),\n",
       "        (array([u'bottle'], \n",
       "      dtype='<U6'), array([], \n",
       "      dtype='<U1'), array([[1]], dtype=uint8), array([[1]], dtype=uint8), array([[0]], dtype=uint8), array([u'PASbottleTruncOcc'], \n",
       "      dtype='<U17'), array([u'PASbottleTruncOcc'], \n",
       "      dtype='<U17'), array([[338, 276, 352, 333]], dtype=uint16), array([[ (array([[338]], dtype=uint16), array([[276]], dtype=uint16), array([[352]], dtype=uint16), array([[333]], dtype=uint16))]], \n",
       "      dtype=[('xmin', 'O'), ('ymin', 'O'), ('xmax', 'O'), ('ymax', 'O')]), array([], shape=(0, 0), dtype=uint8), array([], shape=(0, 0), dtype=uint8), array([[0]], dtype=uint8), array([], shape=(0, 0), dtype=uint8), array([], shape=(0, 0), dtype=uint8), array([[0]], dtype=uint8), array([], shape=(0, 0), dtype=uint8), array([[ (array([[(array([[ 344.51483051,  276.86373815]]), array([[1]], dtype=uint8))]], \n",
       "      dtype=[('location', 'O'), ('status', 'O')]), array([[(array([], shape=(0, 0), dtype=uint8), array([[3]], dtype=uint8))]], \n",
       "      dtype=[('location', 'O'), ('status', 'O')]), array([[(array([], shape=(0, 0), dtype=uint8), array([[3]], dtype=uint8))]], \n",
       "      dtype=[('location', 'O'), ('status', 'O')]), array([[(array([[ 351.47608959,  294.11555413]]), array([[1]], dtype=uint8))]], \n",
       "      dtype=[('location', 'O'), ('status', 'O')]), array([[(array([], shape=(0, 0), dtype=uint8), array([[3]], dtype=uint8))]], \n",
       "      dtype=[('location', 'O'), ('status', 'O')]), array([[(array([], shape=(0, 0), dtype=uint8), array([[3]], dtype=uint8))]], \n",
       "      dtype=[('location', 'O'), ('status', 'O')]), array([[(array([[ 350.26543584,  330.43516672]]), array([[1]], dtype=uint8))]], \n",
       "      dtype=[('location', 'O'), ('status', 'O')]))]], \n",
       "      dtype=[('mouth', 'O'), ('body', 'O'), ('body_left', 'O'), ('body_right', 'O'), ('bottom', 'O'), ('bottom_left', 'O'), ('bottom_right', 'O')]), array([[ (array([[0]], dtype=uint8), array([[5]], dtype=uint8), array([[  2.04874007e-07]]), array([[ 24.15882962]]), array([[ 44.65308341]]), array([[1]], dtype=uint8), array([[ 342.67033882]]), array([[ 302.01582323]]), array([[-2.32808263]]), array([[ 1.91705589]]), array([[ 0.72008321]]), array([[ 0.71281414]]), array([[3]], dtype=uint8), array([[3000]], dtype=uint16))]], \n",
       "      dtype=[('azimuth_coarse', 'O'), ('elevation_coarse', 'O'), ('azimuth', 'O'), ('elevation', 'O'), ('distance', 'O'), ('focal', 'O'), ('px', 'O'), ('py', 'O'), ('theta', 'O'), ('error', 'O'), ('interval_azimuth', 'O'), ('interval_elevation', 'O'), ('num_anchor', 'O'), ('viewport', 'O')]), array([[4]], dtype=uint8)),\n",
       "        (array([u'bottle'], \n",
       "      dtype='<U6'), array([], \n",
       "      dtype='<U1'), array([[0]], dtype=uint8), array([[0]], dtype=uint8), array([[1]], dtype=uint8), array([u'PASbottleDiff'], \n",
       "      dtype='<U13'), array([u'PASbottleDiff'], \n",
       "      dtype='<U13'), array([[ 88, 207, 100, 234]], dtype=uint8), array([[ (array([[88]], dtype=uint8), array([[207]], dtype=uint8), array([[100]], dtype=uint8), array([[234]], dtype=uint8))]], \n",
       "      dtype=[('xmin', 'O'), ('ymin', 'O'), ('xmax', 'O'), ('ymax', 'O')]), array([], shape=(0, 0), dtype=uint8), array([], shape=(0, 0), dtype=uint8), array([[0]], dtype=uint8), array([], shape=(0, 0), dtype=uint8), array([], shape=(0, 0), dtype=uint8), array([[0]], dtype=uint8), array([], shape=(0, 0), dtype=uint8), array([[ (array([[(array([[  94.50653167,  208.10844088]]), array([[1]], dtype=uint8))]], \n",
       "      dtype=[('location', 'O'), ('status', 'O')]), array([[(array([[  94.20386823,  216.28035372]]), array([[1]], dtype=uint8))]], \n",
       "      dtype=[('location', 'O'), ('status', 'O')]), array([[(array([[  90.26924354,  216.58301715]]), array([[1]], dtype=uint8))]], \n",
       "      dtype=[('location', 'O'), ('status', 'O')]), array([[(array([[  98.13849293,  216.28035372]]), array([[1]], dtype=uint8))]], \n",
       "      dtype=[('location', 'O'), ('status', 'O')]), array([[(array([[  94.80919511,  230.80819875]]), array([[1]], dtype=uint8))]], \n",
       "      dtype=[('location', 'O'), ('status', 'O')]), array([[(array([[  91.17723385,  229.29488156]]), array([[1]], dtype=uint8))]], \n",
       "      dtype=[('location', 'O'), ('status', 'O')]), array([[(array([[  98.13849293,  228.68955468]]), array([[1]], dtype=uint8))]], \n",
       "      dtype=[('location', 'O'), ('status', 'O')]))]], \n",
       "      dtype=[('mouth', 'O'), ('body', 'O'), ('body_left', 'O'), ('body_right', 'O'), ('bottom', 'O'), ('bottom_left', 'O'), ('bottom_right', 'O')]), array([[ (array([[0]], dtype=uint8), array([[ 7.5]]), array([[ 0.00040847]]), array([[ 29.99997581]]), array([[ 99.99998476]]), array([[1]], dtype=uint8), array([[ 94.37286617]]), array([[ 218.04912909]]), array([[ 1.47976472]]), array([[ 0.97086498]]), array([[ 2.47446216]]), array([[ 1.96615153]]), array([[7]], dtype=uint8), array([[3000]], dtype=uint16))]], \n",
       "      dtype=[('azimuth_coarse', 'O'), ('elevation_coarse', 'O'), ('azimuth', 'O'), ('elevation', 'O'), ('distance', 'O'), ('focal', 'O'), ('px', 'O'), ('py', 'O'), ('theta', 'O'), ('error', 'O'), ('interval_azimuth', 'O'), ('interval_elevation', 'O'), ('num_anchor', 'O'), ('viewport', 'O')]), array([[4]], dtype=uint8))]], \n",
       "      dtype=[('class', 'O'), ('view', 'O'), ('truncated', 'O'), ('occluded', 'O'), ('difficult', 'O'), ('label', 'O'), ('orglabel', 'O'), ('bbox', 'O'), ('bndbox', 'O'), ('polygon', 'O'), ('mask', 'O'), ('hasparts', 'O'), ('part', 'O'), ('point', 'O'), ('hasactions', 'O'), ('actions', 'O'), ('anchors', 'O'), ('viewpoint', 'O'), ('cad_index', 'O')])], dtype=object)"
      ]
     },
     "execution_count": 24,
     "metadata": {},
     "output_type": "execute_result"
    }
   ],
   "source": [
    "data_objects[0]"
   ]
  },
  {
   "cell_type": "code",
   "execution_count": 31,
   "metadata": {},
   "outputs": [
    {
     "data": {
      "text/plain": [
       "array([[array([[233, 180, 277, 262]], dtype=uint16),\n",
       "        array([[275, 181, 310, 274]], dtype=uint16),\n",
       "        array([[119, 174, 140, 208]], dtype=uint8),\n",
       "        array([[ 84, 190, 279, 434]], dtype=uint16),\n",
       "        array([[ 39, 170, 113, 260]], dtype=uint16),\n",
       "        array([[ 55, 288, 175, 455]], dtype=uint16),\n",
       "        array([[ 25, 242,  94, 351]], dtype=uint16),\n",
       "        array([[328, 279, 347, 340]], dtype=uint16),\n",
       "        array([[338, 276, 352, 333]], dtype=uint16),\n",
       "        array([[ 88, 207, 100, 234]], dtype=uint8)]], dtype=object)"
      ]
     },
     "execution_count": 31,
     "metadata": {},
     "output_type": "execute_result"
    }
   ],
   "source": [
    "data['record']['objects'][0][0]['bbox']"
   ]
  },
  {
   "cell_type": "code",
   "execution_count": 32,
   "metadata": {},
   "outputs": [
    {
     "data": {
      "text/plain": [
       "array([[array([], shape=(1, 0), dtype=float64),\n",
       "        array([], shape=(1, 0), dtype=float64),\n",
       "        array([], shape=(1, 0), dtype=float64),\n",
       "        array([], shape=(1, 0), dtype=float64),\n",
       "        array([], shape=(1, 0), dtype=float64),\n",
       "        array([], shape=(1, 0), dtype=float64),\n",
       "        array([], shape=(1, 0), dtype=float64),\n",
       "        array([[ (array([[0]], dtype=uint8), array([[ 7.5]]), array([[  1.40407833e-05]]), array([[ 10.36039084]]), array([[ 46.78078117]]), array([[1]], dtype=uint8), array([[ 337.48725269]]), array([[ 306.63626577]]), array([[-1.29049621]]), array([[ 3.28926842]]), array([[ 1.62379178]]), array([[ 1.71021109]]), array([[7]], dtype=uint8), array([[3000]], dtype=uint16))]], \n",
       "      dtype=[('azimuth_coarse', 'O'), ('elevation_coarse', 'O'), ('azimuth', 'O'), ('elevation', 'O'), ('distance', 'O'), ('focal', 'O'), ('px', 'O'), ('py', 'O'), ('theta', 'O'), ('error', 'O'), ('interval_azimuth', 'O'), ('interval_elevation', 'O'), ('num_anchor', 'O'), ('viewport', 'O')]),\n",
       "        array([[ (array([[0]], dtype=uint8), array([[5]], dtype=uint8), array([[  2.04874007e-07]]), array([[ 24.15882962]]), array([[ 44.65308341]]), array([[1]], dtype=uint8), array([[ 342.67033882]]), array([[ 302.01582323]]), array([[-2.32808263]]), array([[ 1.91705589]]), array([[ 0.72008321]]), array([[ 0.71281414]]), array([[3]], dtype=uint8), array([[3000]], dtype=uint16))]], \n",
       "      dtype=[('azimuth_coarse', 'O'), ('elevation_coarse', 'O'), ('azimuth', 'O'), ('elevation', 'O'), ('distance', 'O'), ('focal', 'O'), ('px', 'O'), ('py', 'O'), ('theta', 'O'), ('error', 'O'), ('interval_azimuth', 'O'), ('interval_elevation', 'O'), ('num_anchor', 'O'), ('viewport', 'O')]),\n",
       "        array([[ (array([[0]], dtype=uint8), array([[ 7.5]]), array([[ 0.00040847]]), array([[ 29.99997581]]), array([[ 99.99998476]]), array([[1]], dtype=uint8), array([[ 94.37286617]]), array([[ 218.04912909]]), array([[ 1.47976472]]), array([[ 0.97086498]]), array([[ 2.47446216]]), array([[ 1.96615153]]), array([[7]], dtype=uint8), array([[3000]], dtype=uint16))]], \n",
       "      dtype=[('azimuth_coarse', 'O'), ('elevation_coarse', 'O'), ('azimuth', 'O'), ('elevation', 'O'), ('distance', 'O'), ('focal', 'O'), ('px', 'O'), ('py', 'O'), ('theta', 'O'), ('error', 'O'), ('interval_azimuth', 'O'), ('interval_elevation', 'O'), ('num_anchor', 'O'), ('viewport', 'O')])]], dtype=object)"
      ]
     },
     "execution_count": 32,
     "metadata": {},
     "output_type": "execute_result"
    }
   ],
   "source": [
    "data['record']['objects'][0][0]['viewpoint']"
   ]
  },
  {
   "cell_type": "code",
   "execution_count": 33,
   "metadata": {},
   "outputs": [
    {
     "name": "stdout",
     "output_type": "stream",
     "text": [
      "/home/zxy/Datasets/pascal3d/Annotations/bottle_pascal/2008_003280\n"
     ]
    }
   ],
   "source": [
    "print annot_file"
   ]
  },
  {
   "cell_type": "code",
   "execution_count": null,
   "metadata": {
    "collapsed": true
   },
   "outputs": [],
   "source": []
  }
 ],
 "metadata": {
  "kernelspec": {
   "display_name": "Python 2",
   "language": "python",
   "name": "python2"
  },
  "language_info": {
   "codemirror_mode": {
    "name": "ipython",
    "version": 2
   },
   "file_extension": ".py",
   "mimetype": "text/x-python",
   "name": "python",
   "nbconvert_exporter": "python",
   "pygments_lexer": "ipython2",
   "version": "2.7.13"
  }
 },
 "nbformat": 4,
 "nbformat_minor": 2
}
